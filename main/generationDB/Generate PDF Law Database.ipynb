{
 "cells": [
  {
   "attachments": {},
   "cell_type": "markdown",
   "metadata": {},
   "source": [
    "State Laws Generation:"
   ]
  },
  {
   "cell_type": "code",
   "execution_count": null,
   "metadata": {},
   "outputs": [],
   "source": [
    "from selenium import webdriver\n",
    "from selenium.webdriver.chrome.service import Service\n",
    "import os\n",
    "import uuid\n",
    "import time\n",
    "import json\n",
    "from webdriver_manager.chrome import ChromeDriverManager\n",
    "from selenium.webdriver.common.by import By\n",
    "from selenium.webdriver.support.ui import Select\n",
    "import time\n",
    "import os\n",
    "import re\n",
    "import json\n",
    "import requests\n",
    "from bs4 import BeautifulSoup\n",
    "import PyPDF2\n",
    "\n",
    "chrome_options = webdriver.ChromeOptions()\n",
    "chrome_options.add_argument(\"--headless\")  # Ensure GUI is off\n",
    "chrome_options.add_argument(\"--no-sandbox\")\n",
    "chrome_options.add_argument(\"--disable-dev-shm-usage\")\n",
    "\n",
    "chrome_options.binary_location = '/usr/bin/google-chrome-stable'  # Path to your Chrome binary\n",
    "\n",
    "driver = webdriver.Chrome(service=Service(ChromeDriverManager().install()), options=chrome_options)"
   ]
  },
  {
   "cell_type": "code",
   "execution_count": null,
   "metadata": {},
   "outputs": [],
   "source": [
    "def scrape_and_download_pdf_and_titles(url, button_section_id, section_name, max_num, municipality=None):\n",
    "    if (municipality):\n",
    "        base_path = f\"state/{section_name}/{municipality}\"\n",
    "    else:\n",
    "        base_path = f\"state/{section_name}\"\n",
    "\n",
    "    if not os.path.exists(f\"state/{section_name}\"):\n",
    "        if (municipality):\n",
    "            os.mkdir(f\"state/{section_name}\")\n",
    "\n",
    "        os.mkdir(base_path)\n",
    "        os.mkdir(f\"{base_path}/pdfs\")\n",
    "\n",
    "    schema_list = []\n",
    "\n",
    "    driver.get(url)\n",
    "\n",
    "    driver_button_section = driver.find_element(By.ID, button_section_id)\n",
    "    driver_button_section.click()\n",
    "    time.sleep(1)\n",
    "\n",
    "    for i in range(max_num):\n",
    "        dropdown = Select(driver.find_element(By.ID, \"ddlPagina\"))\n",
    "        time.sleep(1)\n",
    "        dropdown.select_by_visible_text(f\"{i+1} de {max_num}\")\n",
    "        time.sleep(1)\n",
    "\n",
    "        soup = BeautifulSoup(driver.page_source, 'html.parser')\n",
    "        table = soup.find('table', {'id': 'dgData'})\n",
    "        rows = table.find_all('tr')\n",
    "\n",
    "        for ind, row in enumerate(rows):\n",
    "            if (ind != 0):\n",
    "                document_name = row.find('td', {'class': 'tabla_i_documento'})\n",
    "                if (document_name != None):\n",
    "                    document_name = document_name.text\n",
    "                    dates = row.find_all('td', {'class': 'tabla_i_fecha'})\n",
    "                    last_reform_date = dates[1].text\n",
    "                    try:\n",
    "                        pdf_link = row.find('td', {'class': 'tabla_pdfs'}).find_all('a', href=True)[1]['href']\n",
    "                    except:\n",
    "                        pdf_link = row.find('td', {'class': 'tabla_pdfs'}).find_all('a', href=True)[0]['href']\n",
    "                    path_id = re.search(r'/([^/]*)\\.pdf', pdf_link).group(1) if re.search(r'/([^/]*)\\.pdf', pdf_link) else None\n",
    "\n",
    "                    if not \"Ingresos\" in document_name and not \"Egresos\" in document_name:\n",
    "                        schema_list.append({\n",
    "                            \"title\": document_name,\n",
    "                            \"path_id\": path_id,\n",
    "                            \"source\": pdf_link,\n",
    "                            \"last_reform_date\": last_reform_date\n",
    "                        })\n",
    "\n",
    "    with open(f\"{base_path}/schema.json\", 'w') as f:\n",
    "        json.dump(schema_list, f, indent=4)\n",
    "\n",
    "\n",
    "    for file in schema_list:\n",
    "        r = requests.get(file[\"source\"])\n",
    "\n",
    "        pdf_file_path = f\"{base_path}/pdfs/{file['path_id']}/{file['path_id']}.pdf\"\n",
    "\n",
    "        if not os.path.exists(pdf_file_path):\n",
    "\n",
    "            os.mkdir(f\"{base_path}/pdfs/{file['path_id']}\")\n",
    "\n",
    "            with open(pdf_file_path, \"wb\") as pdf:\n",
    "                pdf.write(r.content)\n",
    "            print(f\"✅File processed: {file['source']}\")\n",
    "        else:\n",
    "            print(f\"❌File already exists: {file['source']}\")\n"
   ]
  },
  {
   "cell_type": "code",
   "execution_count": null,
   "metadata": {},
   "outputs": [],
   "source": [
    "url = \"http://sistec.nl.gob.mx/Transparencia_2015_LyPOE/Acciones/Legislacion.aspx\"\n",
    "button_section_id = \"btnLeyesEstatales\"\n",
    "section_name = \"leyes_estatales\"\n",
    "max_num = 9\n",
    "scrape_and_download_pdf_and_titles(url, button_section_id, section_name, max_num)"
   ]
  },
  {
   "cell_type": "code",
   "execution_count": null,
   "metadata": {},
   "outputs": [],
   "source": [
    "url = \"http://sistec.nl.gob.mx/Transparencia_2015_LyPOE/Acciones/Legislacion.aspx\"\n",
    "button_section_id = \"btnReglamentosEstatales\"\n",
    "section_name = \"reglamentos_estatales\"\n",
    "max_num = 8\n",
    "scrape_and_download_pdf_and_titles(url, button_section_id, section_name, max_num)"
   ]
  },
  {
   "cell_type": "code",
   "execution_count": null,
   "metadata": {},
   "outputs": [],
   "source": [
    "url = \"http://sistec.nl.gob.mx/Transparencia_2015_LyPOE/Acciones/Legislacion.aspx\"\n",
    "button_section_id = \"btnReglamentosMunicipales\"\n",
    "section_name = \"reglamentos_municipales\"\n",
    "municipality = \"monterrey\"\n",
    "max_num = 3\n",
    "scrape_and_download_pdf_and_titles(url, button_section_id, section_name, max_num, municipality)"
   ]
  },
  {
   "cell_type": "code",
   "execution_count": null,
   "metadata": {},
   "outputs": [],
   "source": [
    "elements_folder = os.listdir(\"state/reglamentos_municipales/monterrey/pdfs\")\n",
    "print(len(elements_folder))"
   ]
  },
  {
   "attachments": {},
   "cell_type": "markdown",
   "metadata": {},
   "source": [
    "Federal Laws Generation:\n",
    "Download zip from https://www.diputados.gob.mx/LeyesBiblio/legiscd.htm"
   ]
  },
  {
   "attachments": {},
   "cell_type": "markdown",
   "metadata": {},
   "source": [
    "Actual Laws:"
   ]
  },
  {
   "cell_type": "code",
   "execution_count": null,
   "metadata": {},
   "outputs": [],
   "source": [
    "base_path = \"federal/pdfs\"\n",
    "pdfs = os.listdir(base_path)\n",
    "\n",
    "schema_list = []\n",
    "\n",
    "for pdf in pdfs:\n",
    "    pdf_name = pdf[:-4]\n",
    "    path_id = str(uuid.uuid4())\n",
    "    mod_time = os.path.getmtime(f\"{base_path}/{pdf}\")\n",
    "    formatted_time = time.ctime(mod_time)\n",
    "\n",
    "    schema_list.append({\n",
    "        \"title\": pdf_name,\n",
    "        \"path_id\": path_id,\n",
    "        \"source\": \"https://www.diputados.gob.mx/LeyesBiblio/legiscd.htm\",\n",
    "        \"last_reform_date\": formatted_time\n",
    "    })\n",
    "    os.mkdir(f\"{base_path}/{path_id}\")\n",
    "    os.rename(f\"{base_path}/{pdf}\", f\"{base_path}/{path_id}/{path_id}.pdf\")\n",
    "    print(f\"✅File Processed: {pdf_name}\")\n",
    "\n",
    "with open(f\"federal/schema.json\", 'w') as f:\n",
    "    json.dump(schema_list, f, indent=4)"
   ]
  },
  {
   "attachments": {},
   "cell_type": "markdown",
   "metadata": {},
   "source": [
    "Regulations for the laws:"
   ]
  },
  {
   "cell_type": "code",
   "execution_count": null,
   "metadata": {},
   "outputs": [],
   "source": [
    "url = \"https://www.diputados.gob.mx/LeyesBiblio/regla.htm\"\n",
    "driver.get(url)\n",
    "soup = BeautifulSoup(driver.page_source, 'html.parser')\n",
    "\n",
    "table = soup.find('table', {'id': 'table5'})\n",
    "rows = table.find_all('tr')\n",
    "\n",
    "schema_list = []\n",
    "\n",
    "for ind, row in enumerate(rows):\n",
    "    if (ind != 0):\n",
    "        col1 = row.find_all('td')[1]\n",
    "        document_name = col1.find(\"p\").text.replace(\"\\n\", \"\")\n",
    "\n",
    "        col2 = row.find_all('td')[3]\n",
    "        pdf_link = col2.find(\"a\", href=True)[\"href\"]\n",
    "        \n",
    "        path_id = str(uuid.uuid4())\n",
    "\n",
    "        schema_list.append({\n",
    "            \"title\": document_name,\n",
    "            \"path_id\": path_id,\n",
    "            \"source\": f\"https://www.diputados.gob.mx/LeyesBiblio/{pdf_link}\",\n",
    "            \"last_reform_date\": \"\"\n",
    "        })\n",
    "\n",
    "base_path = \"federal/reglamentos_federales\"\n",
    "\n",
    "for file in schema_list:\n",
    "    r = requests.get(file[\"source\"])\n",
    "\n",
    "    pdf_file_path = f\"{base_path}/pdfs/{file['path_id']}/{file['path_id']}.pdf\"\n",
    "\n",
    "    if not os.path.exists(pdf_file_path):\n",
    "\n",
    "        os.mkdir(f\"{base_path}/pdfs/{file['path_id']}\")\n",
    "\n",
    "        with open(pdf_file_path, \"wb\") as pdf:\n",
    "            pdf.write(r.content)\n",
    "        print(f\"✅File processed: {file['source']}\")\n",
    "    else:\n",
    "        print(f\"❌File already exists: {file['source']}\")\n",
    "\n",
    "with open(f\"federal/reglamentos_federales/schema.json\", 'w') as f:\n",
    "   json.dump(schema_list, f, indent=4)"
   ]
  }
 ],
 "metadata": {
  "kernelspec": {
   "display_name": "Python 3",
   "language": "python",
   "name": "python3"
  },
  "language_info": {
   "codemirror_mode": {
    "name": "ipython",
    "version": 3
   },
   "file_extension": ".py",
   "mimetype": "text/x-python",
   "name": "python",
   "nbconvert_exporter": "python",
   "pygments_lexer": "ipython3",
   "version": "3.10.6"
  },
  "orig_nbformat": 4
 },
 "nbformat": 4,
 "nbformat_minor": 2
}
